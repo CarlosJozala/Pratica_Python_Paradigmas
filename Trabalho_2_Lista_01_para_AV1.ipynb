{
  "nbformat": 4,
  "nbformat_minor": 0,
  "metadata": {
    "colab": {
      "provenance": [],
      "authorship_tag": "ABX9TyOhLErg6GeWdwv4/rT/Faix",
      "include_colab_link": true
    },
    "kernelspec": {
      "name": "python3",
      "display_name": "Python 3"
    },
    "language_info": {
      "name": "python"
    }
  },
  "cells": [
    {
      "cell_type": "markdown",
      "metadata": {
        "id": "view-in-github",
        "colab_type": "text"
      },
      "source": [
        "<a href=\"https://colab.research.google.com/github/CarlosJozala/Praticas-em-Python/blob/main/Trabalho_2_Lista_01_para_AV1.ipynb\" target=\"_parent\"><img src=\"https://colab.research.google.com/assets/colab-badge.svg\" alt=\"Open In Colab\"/></a>"
      ]
    },
    {
      "cell_type": "markdown",
      "source": [
        "# Trabalho 2 \n",
        "# Paradigmas em Python\n",
        "## Alunos: Gledson Rocha e Carlos Jozala"
      ],
      "metadata": {
        "id": "gJ_GdGGMq_Uh"
      }
    },
    {
      "cell_type": "markdown",
      "source": [
        "*Estrutura \n",
        "Sequencial*"
      ],
      "metadata": {
        "id": "RQIumNcFrMq9"
      }
    },
    {
      "cell_type": "code",
      "execution_count": null,
      "metadata": {
        "colab": {
          "base_uri": "https://localhost:8080/"
        },
        "id": "B-X7AVmOolYU",
        "outputId": "52413f92-4e50-443b-e819-845c10572e6e"
      },
      "outputs": [
        {
          "output_type": "stream",
          "name": "stdout",
          "text": [
            "Alo mondo\n"
          ]
        }
      ],
      "source": [
        "#1. Faça um Programa que mostre a mensagem \"Alo mundo\" na tela.\n",
        "\n",
        "print(\"Alo mundo\")"
      ]
    },
    {
      "cell_type": "code",
      "source": [
        "#2. Faça um Programa que peça um número e então mostre a mensagem O número informado foi\n",
        "#[número].\n",
        "\n",
        "numero = int(input(\"Digite um número inteiro: \"))\n",
        "print (numero)"
      ],
      "metadata": {
        "colab": {
          "base_uri": "https://localhost:8080/"
        },
        "id": "WqHYa7AyowIu",
        "outputId": "61109ae5-916e-48f4-8bdb-ec6e6c34e254"
      },
      "execution_count": null,
      "outputs": [
        {
          "output_type": "stream",
          "name": "stdout",
          "text": [
            "Digite um número inteiro1\n",
            "1\n"
          ]
        }
      ]
    },
    {
      "cell_type": "code",
      "source": [
        "#3. Faça um Programa que peça dois números e imprima a soma.\n",
        "\n",
        "numero1 = float(input(\"Digite o primeiro número: \"))\n",
        "numero2 = float(input(\"Digite o segundo número: \"))\n",
        "\n",
        "soma = numero1 + numero2\n",
        "\n",
        "print(\"A soma dos números é:\", soma)\n"
      ],
      "metadata": {
        "id": "pg37SZeXo8uN"
      },
      "execution_count": null,
      "outputs": []
    },
    {
      "cell_type": "code",
      "source": [
        "#4. Faça um Programa que peça as 4 notas bimestrais e mostre a média.\n",
        "\n",
        "nota1 = float(input(\"Digite a primeira nota: \"))\n",
        "nota2 = float(input(\"Digite a segunda nota: \"))\n",
        "nota3 = float(input(\"Digite a terceira nota: \"))\n",
        "nota4 = float(input(\"Digite a quarta nota: \"))\n",
        "\n",
        "media = (nota1 + nota2 + nota3 + nota4) / 4\n",
        "\n",
        "print(\"A média das notas é:\", media)\n"
      ],
      "metadata": {
        "id": "rjBlUOXto_74"
      },
      "execution_count": null,
      "outputs": []
    },
    {
      "cell_type": "code",
      "source": [
        "#5. Faça um Programa que converta metros para centímetros.\n",
        "\n",
        "metros = float(input(\"Digite a medida em metros: \"))\n",
        "\n",
        "centimetros = metros * 100\n",
        "\n",
        "print(metros, \"metros é equivalente a\", centimetros, \"centímetros.\")\n",
        "\n"
      ],
      "metadata": {
        "id": "IM0oeHXOpABA"
      },
      "execution_count": null,
      "outputs": []
    },
    {
      "cell_type": "code",
      "source": [
        "#6. Faça um Programa que peça o raio de um círculo, calcule e mostre sua área.\n",
        "raio = float(input(\"Digite o raio do círculo: \"))\n",
        "\n",
        "area = 3.14 * (raio ** 2)\n",
        "\n",
        "print(\"A área do círculo é:\", area)\n"
      ],
      "metadata": {
        "id": "rJhYFKE7pAV_"
      },
      "execution_count": null,
      "outputs": []
    },
    {
      "cell_type": "code",
      "source": [
        "#7. Faça um Programa que calcule a área de um quadrado, em seguida mostre o dobro desta área para o usuário.\n",
        "lado = float(input(\"Digite a medida do lado do quadrado: \"))\n",
        "\n",
        "area = lado ** 2\n",
        "\n",
        "dobro_area = area * 2\n",
        "\n",
        "print(\"A área do quadrado é:\", area)\n",
        "print(\"O dobro da área do quadrado é:\", dobro_area)\n"
      ],
      "metadata": {
        "id": "-8HW4jqGpBP3"
      },
      "execution_count": null,
      "outputs": []
    },
    {
      "cell_type": "code",
      "source": [
        "# 8. Faça um Programa que pergunte quanto você ganha por hora e o número de horas trabalhadas no mês. Calcule e mostre o total do seu salário no referido mês.\n",
        "valor_hora = float(input(\"Digite o valor do seu salário por hora: \"))\n",
        "horas_mes = float(input(\"Digite o número de horas trabalhadas no mês: \"))\n",
        "\n",
        "salario_mes = valor_hora * horas_mes\n",
        "\n",
        "print(\"Seu salário neste mês será de R$\", salario_mes)\n"
      ],
      "metadata": {
        "id": "WE6bQnp2pBVt"
      },
      "execution_count": null,
      "outputs": []
    },
    {
      "cell_type": "code",
      "source": [
        "# 9. Faça um Programa que peça a temperatura em graus Fahrenheit, transforme e mostre a temperatura em graus Celsius. o C = 5 * ((F-32) / 9).\n",
        "fahrenheit = float(input(\"Digite a temperatura em graus Fahrenheit: \"))\n",
        "\n",
        "celsius = 5 * ((fahrenheit - 32) / 9)\n",
        "\n",
        "print(\"A temperatura em graus Celsius é:\", celsius, \"°C\")\n"
      ],
      "metadata": {
        "id": "HN8d-Hw4pBcL"
      },
      "execution_count": null,
      "outputs": []
    },
    {
      "cell_type": "code",
      "source": [
        "# 10. Faça um Programa que peça a temperatura em graus Celsius, transforme e mostre em graus Fahrenheit\n",
        "celsius = float(input(\"Digite a temperatura em graus Celsius: \"))\n",
        "\n",
        "fahrenheit = (celsius * 9/5) + 32\n",
        "\n",
        "print(\"A temperatura em graus Fahrenheit é:\", fahrenheit, \"°F\")\n"
      ],
      "metadata": {
        "id": "UiR23Pt_pBiw"
      },
      "execution_count": null,
      "outputs": []
    },
    {
      "cell_type": "code",
      "source": [
        "#11. Faça um Programa que peça 2 números inteiros e um número real. Calcule e mostre:\n",
        "#o o produto do dobro do primeiro com metade do segundo .\n",
        "#o a soma do triplo do primeiro com o terceiro.\n",
        "#o o terceiro elevado ao cubo.\n",
        "\n",
        "num_int1 = int(input(\"Digite um número inteiro: \"))\n",
        "num_int2 = int(input(\"Digite outro número inteiro: \"))\n",
        "num_real = float(input(\"Digite um número real: \"))\n",
        "\n",
        "calc1 = (2 * num_int1) * (num_int2 / 2)\n",
        "calc2 = (3 * num_int1) + num_real\n",
        "calc3 = num_real ** 3\n",
        "\n",
        "print(\"O produto do dobro do primeiro com metade do segundo é:\", calc1)\n",
        "print(\"A soma do triplo do primeiro com o terceiro é:\", calc2)\n",
        "print(\"O terceiro elevado ao cubo é:\", calc3)\n"
      ],
      "metadata": {
        "id": "f11TYdespvG3"
      },
      "execution_count": null,
      "outputs": []
    },
    {
      "cell_type": "code",
      "source": [
        "#12. Tendo como dados de entrada a altura de uma pessoa, construa um algoritmo que calcule seu peso ideal, usando a seguinte fórmula: (72.7*altura) - 58\n",
        "altura = float(input(\"Digite a sua altura em metros: \"))\n",
        "\n",
        "peso_ideal = (72.7 * altura) - 58\n",
        "\n",
        "print(\"Seu peso ideal é:\", peso_ideal, \"kg\")\n"
      ],
      "metadata": {
        "id": "anmOZ3ALpvNA"
      },
      "execution_count": null,
      "outputs": []
    },
    {
      "cell_type": "code",
      "source": [
        "#13. Tendo como dado de entrada a altura (h) de uma pessoa, construa um algoritmo que calcule seu\n",
        "#peso ideal, utilizando as seguintes fórmulas:\n",
        "#o Para homens: (72.7*h) - 58\n",
        "#o Para mulheres: (62.1*h) - 44.7\n",
        "\n",
        "altura = float(input(\"Digite a sua altura em metros: \"))\n",
        "sexo = input(\"Digite o seu sexo (M para masculino e F para feminino): \")\n",
        "\n",
        "if sexo == \"M\":\n",
        "    peso_ideal = (72.7 * altura) - 58\n",
        "    print(\"Seu peso ideal é:\", peso_ideal, \"kg\")\n",
        "elif sexo == \"F\":\n",
        "    peso_ideal = (62.1 * altura) - 44.7\n",
        "    print(\"Seu peso ideal é:\", peso_ideal, \"kg\")\n",
        "else:\n",
        "    print(\"Sexo inválido. Por favor, digite M para masculino ou F para feminino.\")\n"
      ],
      "metadata": {
        "id": "0BCRwzOrpvUZ"
      },
      "execution_count": null,
      "outputs": []
    },
    {
      "cell_type": "code",
      "source": [
        "#14. João Papo-de-Pescador, homem de bem, comprou um microcomputador para controlar o rendimento diário de seu trabalho. Toda vez que ele traz um peso de peixes maior que o\n",
        "#estabelecido pelo regulamento de pesca do estado de São Paulo (50 quilos) deve pagar uma multa de R$ 4,00 por quilo excedente. João precisa que você faça um programa que leia a\n",
        "#variável peso (peso de peixes) e calcule o excesso. Gravar na variável excesso a quantidade de quilos além do limite e na variável multa o valor da multa que João deverá pagar. Imprima\n",
        "#os dados do programa com as mensagens adequadas.\n",
        "\n",
        "peso = float(input(\"Digite o peso dos peixes capturados (em quilos): \"))\n",
        "\n",
        "if peso > 50:\n",
        "    excesso = peso - 50\n",
        "    multa = excesso * 4\n",
        "    print(\"João terá que pagar uma multa de R$\", multa, \"pela quantidade de\", excesso, \"quilos excedente.\")\n",
        "else:\n",
        "    print(\"João não excedeu o limite de peso e não precisará pagar nenhuma multa.\")\n"
      ],
      "metadata": {
        "id": "4v-dX5QHpvcs"
      },
      "execution_count": null,
      "outputs": []
    },
    {
      "cell_type": "code",
      "source": [
        "#15. Faça um Programa que pergunte quanto você ganha por hora e o número de horas trabalhadas\n",
        "#no mês. Calcule e mostre o total do seu salário no referido mês, sabendo-se que são descontados\n",
        "#11% para o Imposto de Renda, 8% para o INSS e 5% para o sindicato, faça um programa que nos\n",
        "#dê:\n",
        "#o salário bruto.\n",
        "#o quanto pagou ao INSS.\n",
        "#o quanto pagou ao sindicato.\n",
        "#o o salário líquido.\n",
        "#o calcule os descontos e o salário líquido, conforme a tabela abaixo:\n",
        "\n",
        "#+ Salário bruto : R$\n",
        "#- IR (11%) : R$\n",
        "#- INSS (8%) : R$\n",
        "#- Sindicato (5%) : R$\n",
        "\n",
        "#= Salário Líquido : R$\n",
        "\n",
        "valor_hora = float(input(\"Digite o valor da hora trabalhada: \"))\n",
        "horas_mes = float(input(\"Digite o número de horas trabalhadas no mês: \"))\n",
        "\n",
        "salario_bruto = valor_hora * horas_mes\n",
        "desconto_ir = 0.11 * salario_bruto\n",
        "desconto_inss = 0.08 * salario_bruto\n",
        "desconto_sindicato = 0.05 * salario_bruto\n",
        "salario_liquido = salario_bruto - desconto_ir - desconto_inss - desconto_sindicato\n",
        "\n",
        "print(\"+ Salário bruto : R$\", salario_bruto)\n",
        "print(\"- IR (11%) : R$\", desconto_ir)\n",
        "print(\"- INSS (8%) : R$\", desconto_inss)\n",
        "print(\"- Sindicato (5%) : R$\", desconto_sindicato)\n",
        "print(\"= Salário Líquido : R$\", salario_liquido)\n",
        "\n",
        "\n"
      ],
      "metadata": {
        "id": "IV7Dr4MmpvjV"
      },
      "execution_count": null,
      "outputs": []
    },
    {
      "cell_type": "markdown",
      "source": [
        "\n",
        "*Estrutura de Repetição*"
      ],
      "metadata": {
        "id": "M8YvlnttrUYS"
      }
    },
    {
      "cell_type": "code",
      "source": [
        "# 1 Faça um programa que peça uma nota, entre zero e dez. Mostre uma mensagem caso o valor seja inválido e continue pedindo até que o usuário informe um valor válido.\n",
        "while True:\n",
        "    nota = float(input(\"Digite uma nota entre 0 e 10: \"))\n",
        "    if nota >= 0 and nota <= 10:\n",
        "        print(\"Nota válida:\", nota)\n",
        "        break\n",
        "    else:\n",
        "        print(\"Nota inválida! Digite novamente.\")\n"
      ],
      "metadata": {
        "id": "5Frw9CgApvpW"
      },
      "execution_count": null,
      "outputs": []
    },
    {
      "cell_type": "code",
      "source": [
        "# 2 Faça um programa que leia um nome de usuário e a sua senha e não aceite a senha igual ao nome do usuário, mostrando uma mensagem de erro e voltando a pedir as informações\n",
        "while True:\n",
        "    nome_usuario = input(\"Digite o nome de usuário: \")\n",
        "    senha = input(\"Digite a senha: \")\n",
        "\n",
        "    if senha == nome_usuario:\n",
        "        print(\"Erro: a senha não pode ser igual ao nome de usuário!\")\n",
        "    else:\n",
        "        break\n",
        "\n",
        "print(\"Login realizado com sucesso!\")\n"
      ],
      "metadata": {
        "id": "AN5DNFmDrgUf"
      },
      "execution_count": null,
      "outputs": []
    },
    {
      "cell_type": "code",
      "source": [
        "# 3. Faça um programa que leia e valide as seguintes informações:\n",
        "#a. Nome: maior que 3 caracteres;\n",
        "#b. Idade: entre 0 e 150;\n",
        "#c. Salário: maior que zero;\n",
        "#d. Sexo: 'f' ou 'm';\n",
        "#e. Estado Civil: 's', 'c', 'v', 'd';\n",
        "while True:\n",
        "    nome = input(\"Digite seu nome: \")\n",
        "    if len(nome) > 3:\n",
        "        break\n",
        "    else:\n",
        "        print(\"Nome inválido. Deve ter mais de 3 caracteres.\")\n",
        "\n",
        "while True:\n",
        "    idade = int(input(\"Digite sua idade: \"))\n",
        "    if 0 <= idade <= 150:\n",
        "        break\n",
        "    else:\n",
        "        print(\"Idade inválida. Deve estar entre 0 e 150 anos.\")\n",
        "\n",
        "while True:\n",
        "    salario = float(input(\"Digite seu salário: \"))\n",
        "    if salario > 0:\n",
        "        break\n",
        "    else:\n",
        "        print(\"Salário inválido. Deve ser maior que zero.\")\n",
        "\n",
        "while True:\n",
        "    sexo = input(\"Digite seu sexo (f/m): \")\n",
        "    if sexo in ['f', 'm']:\n",
        "        break\n",
        "    else:\n",
        "        print(\"Sexo inválido. Deve ser 'f' ou 'm'.\")\n",
        "\n",
        "while True:\n",
        "    estado_civil = input(\"Digite seu estado civil (s/c/v/d): \")\n",
        "    if estado_civil in ['s', 'c', 'v', 'd']:\n",
        "        break\n",
        "    else:\n",
        "        print(\"Estado civil inválido. Deve ser 's', 'c', 'v' ou 'd'.\")\n"
      ],
      "metadata": {
        "id": "XceB8SMErgbm"
      },
      "execution_count": null,
      "outputs": []
    },
    {
      "cell_type": "code",
      "source": [
        "#4. Supondo que a população de um país A seja da ordem de 80000 habitantes com uma taxa anual\n",
        "#de crescimento de 3% e que a população de B seja 200000 habitantes com uma taxa de\n",
        "#crescimento de 1.5%. Faça um programa que calcule e escreva o número de anos necessários\n",
        "#para que a população do país A ultrapasse ou iguale a população do país B, mantidas as taxas de\n",
        "#crescimento\n",
        "\n",
        "populacao_A = 80000\n",
        "crescimento_A = 0.03\n",
        "\n",
        "populacao_B = 200000\n",
        "crescimento_B = 0.015\n",
        "\n",
        "anos = 0\n",
        "\n",
        "while populacao_A < populacao_B:\n",
        "    populacao_A += populacao_A * crescimento_A\n",
        "    populacao_B += populacao_B * crescimento_B\n",
        "    anos += 1\n",
        "\n",
        "print(f\"A população de A ultrapassará ou igualará a população de B em {anos} anos.\")\n",
        "\n"
      ],
      "metadata": {
        "id": "u04VJ4sTrgh4"
      },
      "execution_count": null,
      "outputs": []
    },
    {
      "cell_type": "code",
      "source": [
        "# 5. Altere o programa anterior permitindo ao usuário informar as populações e as taxas de crescimento iniciais. Valide a entrada e permita repetir a operação.\n",
        "while True:\n",
        "    try:\n",
        "        pop_a = int(input(\"Informe a população do país A: \"))\n",
        "        taxa_a = float(input(\"Informe a taxa de crescimento anual do país A (em %): \")) / 100\n",
        "        pop_b = int(input(\"Informe a população do país B: \"))\n",
        "        taxa_b = float(input(\"Informe a taxa de crescimento anual do país B (em %): \")) / 100\n",
        "        break\n",
        "    except ValueError:\n",
        "        print(\"Valor inválido! Tente novamente.\")\n",
        "\n",
        "anos = 0\n",
        "\n",
        "while pop_a < pop_b:\n",
        "    pop_a += pop_a * taxa_a\n",
        "    pop_b += pop_b * taxa_b\n",
        "    anos += 1\n",
        "\n",
        "print(f\"Levará {anos} anos para a população do país A ultrapassar ou igualar a população do país B.\")\n"
      ],
      "metadata": {
        "id": "z_8GmsKbrgoK"
      },
      "execution_count": null,
      "outputs": []
    },
    {
      "cell_type": "code",
      "source": [
        "# 6. Faça um programa que imprima na tela os números de 1 a 20, um abaixo do outro. Depois modifique o programa para que ele mostre os números um ao lado do outro.\n",
        "# Imprimir os números um abaixo do outro\n",
        "for i in range(1, 21):\n",
        "    print(i)\n",
        "# Imprimir os números um ao lado do outro\n",
        "for i in range(1, 21):\n",
        "    print(i, end=' ')\n",
        "# Imprimir os números um abaixo do outro\n",
        "for i in range(1, 21):\n",
        "    print(i)\n",
        "\n",
        "# Imprimir os números um ao lado do outro\n",
        "for i in range(1, 21):\n",
        "    print(i, end=' ')\n"
      ],
      "metadata": {
        "id": "Erxu3psWrgth"
      },
      "execution_count": null,
      "outputs": []
    },
    {
      "cell_type": "code",
      "source": [
        "# 7. Faça um programa que leia 5 números e informe o maior número\n",
        "maior = 0 # variável para armazenar o maior número, inicializada com zero\n",
        "\n",
        "# Solicitar ao usuário que insira os 5 números e compará-los para encontrar o maior\n",
        "for i in range(5):\n",
        "    num = int(input(\"Insira um número: \"))\n",
        "    if num > maior:\n",
        "        maior = num\n",
        "\n",
        "print(\"O maior número é:\", maior)\n"
      ],
      "metadata": {
        "id": "dW412kFjrgzh"
      },
      "execution_count": null,
      "outputs": []
    },
    {
      "cell_type": "code",
      "source": [
        "# 8. Faça um programa que leia 5 números e informe a soma e a média dos números\n",
        "soma = 0 # variável para armazenar a soma dos números, inicializada com zero\n",
        "\n",
        "# Solicita ao usuário que insira os 5 números e somá-los\n",
        "for i in range(5):\n",
        "    num = int(input(\"Insira um número: \"))\n",
        "    soma += num\n",
        "\n",
        "media = soma / 5 # calcular a média dos números\n",
        "\n",
        "print(\"A soma dos números é:\", soma)\n",
        "print(\"A média dos números é:\", media)\n"
      ],
      "metadata": {
        "id": "nQpz28arrg5F"
      },
      "execution_count": null,
      "outputs": []
    },
    {
      "cell_type": "code",
      "source": [
        "# 9. Faça um programa que imprima na tela apenas os números ímpares entre 1 e 50.\n",
        "# Imprimi na tela apenas os números ímpares entre 1 e 50\n",
        "for i in range(1, 51):\n",
        "    if i % 2 != 0:\n",
        "        print(i)\n"
      ],
      "metadata": {
        "id": "vWezqlPIrg-3"
      },
      "execution_count": null,
      "outputs": []
    },
    {
      "cell_type": "code",
      "source": [
        "# 10. Faça um programa que receba dois números inteiros e gere os números inteiros que estão no intervalo compreendido por eles.\n",
        "# Ler os dois números inteiros\n",
        "num1 = int(input(\"Insira o primeiro número inteiro: \"))\n",
        "num2 = int(input(\"Insira o segundo número inteiro: \"))\n",
        "\n",
        "# Verifica qual número é maior para definir a ordem do intervalo\n",
        "if num1 < num2:\n",
        "    inicio = num1\n",
        "    fim = num2\n",
        "else:\n",
        "    inicio = num2\n",
        "    fim = num1\n",
        "\n",
        "# Gera os números inteiros que estão no intervalo compreendido pelos dois números lidos\n",
        "for i in range(inicio, fim+1):\n",
        "    print(i)\n",
        "\n"
      ],
      "metadata": {
        "id": "eEFhjJLbrhDe"
      },
      "execution_count": null,
      "outputs": []
    },
    {
      "cell_type": "code",
      "source": [
        "# 11. Altere o programa anterior para mostrar no final a soma dos números.\n",
        "# Ler os dois números inteiros\n",
        "num1 = int(input(\"Insira o primeiro número inteiro: \"))\n",
        "num2 = int(input(\"Insira o segundo número inteiro: \"))\n",
        "\n",
        "# Verificar qual número é maior para definir a ordem do intervalo\n",
        "if num1 < num2:\n",
        "    inicio = num1\n",
        "    fim = num2\n",
        "else:\n",
        "    inicio = num2\n",
        "    fim = num1\n",
        "\n",
        "soma = 0 # variável para armazenar a soma dos números gerados\n",
        "\n",
        "# Gera os números inteiros que estão no intervalo compreendido pelos dois números lidos\n",
        "for i in range(inicio, fim+1):\n",
        "    print(i)\n",
        "    soma += i\n",
        "\n",
        "print(\"A soma dos números é:\", soma)\n"
      ],
      "metadata": {
        "id": "xVFmxa2nsYLG"
      },
      "execution_count": null,
      "outputs": []
    },
    {
      "cell_type": "code",
      "source": [
        "# 12. Desenvolva um gerador de tabuada, capaz de gerar a tabuada de qualquer número inteiro entre 1 a 10. O usuário deve informar de qual numero ele deseja ver a tabuada. \n",
        "# Ler o número inteiro do usuário\n",
        "numero = int(input(\"Insira o número inteiro para gerar a tabuada (entre 1 e 10): \"))\n",
        "\n",
        "# Verifica se o número está no intervalo válido\n",
        "if numero < 1 or numero > 10:\n",
        "    print(\"Número inválido! Insira um número entre 1 e 10.\")\n",
        "else:\n",
        "    # Gera a tabuada do número lido\n",
        "    print(\"Tabuada do número\", numero)\n",
        "    for i in range(1, 11):\n",
        "        resultado = numero * i\n",
        "        print(numero, \"x\", i, \"=\", resultado)\n"
      ],
      "metadata": {
        "id": "NWq5iW5WsYSO"
      },
      "execution_count": null,
      "outputs": []
    },
    {
      "cell_type": "code",
      "source": [
        "# 13. Faça um programa que peça dois números, base e expoente, calcule e mostre o primeiro número elevado ao segundo número. Não utilize a função de potência da linguagem\n",
        "#  a base e o expoente do usuário\n",
        "base = int(input(\"Insira a base: \"))\n",
        "expoente = int(input(\"Insira o expoente: \"))\n",
        "\n",
        "# Inicializa a variável resultado com o valor da base\n",
        "resultado = base\n",
        "\n",
        "# Calcula a potência usando um laço for\n",
        "for i in range(1, expoente):\n",
        "    resultado *= base\n",
        "\n",
        "# Imprimi o resultado na tela\n",
        "print(base, \"elevado a\", expoente, \"é igual a\", resultado)\n"
      ],
      "metadata": {
        "id": "ZUdopV7csYZM"
      },
      "execution_count": null,
      "outputs": []
    },
    {
      "cell_type": "code",
      "source": [
        "# 14. Faça um programa que peça 10 números inteiros, calcule e mostre a quantidade de números pares e a quantidade de números impares\n",
        "# Inicializar os contadores de números pares e ímpares\n",
        "pares = 0\n",
        "impares = 0\n",
        "\n",
        "# Ler os 10 números inteiros do usuário e contabilizar os pares e ímpares\n",
        "for i in range(1, 11):\n",
        "    numero = int(input(\"Insira o número inteiro #\" + str(i) + \": \"))\n",
        "    if numero % 2 == 0:\n",
        "        pares += 1\n",
        "    else:\n",
        "        impares += 1\n",
        "\n",
        "# Imprimir o resultado na tela\n",
        "print(\"Quantidade de números pares:\", pares)\n",
        "print(\"Quantidade de números ímpares:\", impares)\n"
      ],
      "metadata": {
        "id": "Y99caD7gsYgn"
      },
      "execution_count": null,
      "outputs": []
    },
    {
      "cell_type": "code",
      "source": [
        "# 15. A série de Fibonacci é formada pela seqüência 1,1,2,3,5,8,13,21,34,55,... Faça um programa capaz de gerar a série até o n−ésimo termo\n",
        "# Ler o valor de n do usuário\n",
        "n = int(input(\"Insira o valor de n: \"))\n",
        "\n",
        "# Inicializa os primeiros termos da série de Fibonacci\n",
        "fibo1, fibo2 = 1, 1\n",
        "\n",
        "# Imprimi os primeiros termos da série de Fibonacci\n",
        "print(\"Série de Fibonacci até o\", n, \"º termo:\")\n",
        "print(fibo1)\n",
        "print(fibo2)\n",
        "\n",
        "# Gera os próximos termos da série de Fibonacci\n",
        "i = 2\n",
        "while i < n:\n",
        "    fibo_atual = fibo1 + fibo2\n",
        "    print(fibo_atual)\n",
        "    fibo1, fibo2 = fibo2, fibo_atual\n",
        "    i += 1\n"
      ],
      "metadata": {
        "id": "KTgpxnxWtGSf"
      },
      "execution_count": null,
      "outputs": []
    },
    {
      "cell_type": "markdown",
      "source": [
        " Estruturas de Decisão "
      ],
      "metadata": {
        "id": "09r3b0VVtaYl"
      }
    },
    {
      "cell_type": "code",
      "source": [
        "# 1. Faça um Programa que peça dois números e imprima o maior deles.\n",
        "num1 = float(input(\"Digite o primeiro número: \"))\n",
        "num2 = float(input(\"Digite o segundo número: \"))\n",
        "\n",
        "if num1 > num2:\n",
        "    print(\"O maior número é: \", num1)\n",
        "else:\n",
        "    print(\"O maior número é: \", num2)\n"
      ],
      "metadata": {
        "id": "6mIPvRvMtuzc"
      },
      "execution_count": null,
      "outputs": []
    },
    {
      "cell_type": "code",
      "source": [
        "# 2. Faça um Programa que peça um valor e mostre na tela se o valor é positivo ou negativo.\n",
        "num = float(input(\"Digite um valor: \"))\n",
        "\n",
        "if num > 0:\n",
        "    print(\"O valor é positivo!\")\n",
        "elif num < 0:\n",
        "    print(\"O valor é negativo!\")\n",
        "else:\n",
        "    print(\"O valor é zero!\")\n"
      ],
      "metadata": {
        "id": "TwjvwAtltvB2"
      },
      "execution_count": null,
      "outputs": []
    },
    {
      "cell_type": "code",
      "source": [
        "# 3. Faça um Programa que verifique se uma letra digitada é \"F\" ou \"M\". Conforme a letra escrever: F - Feminino, M - Masculino, Sexo Inválido.\n",
        "letra = input(\"Digite a letra correspondente ao seu gênero (F/M): \")\n",
        "\n",
        "if letra == 'F' or letra == 'f':\n",
        "    print(\"F - Feminino\")\n",
        "elif letra == 'M' or letra == 'm':\n",
        "    print(\"M - Masculino\")\n",
        "else:\n",
        "    print(\"Sexo Inválido\")\n"
      ],
      "metadata": {
        "id": "j0uMRSBrtvIm"
      },
      "execution_count": null,
      "outputs": []
    },
    {
      "cell_type": "code",
      "source": [
        "# 4. Faça um Programa que verifique se uma letra digitada é vogal ou consoante.\n",
        "letra = input(\"Digite uma letra: \")\n",
        "\n",
        "if letra in 'aeiouAEIOU':\n",
        "    print(\"A letra digitada é uma vogal!\")\n",
        "else:\n",
        "    print(\"A letra digitada é uma consoante!\")\n"
      ],
      "metadata": {
        "id": "CTNwdygUtwHi"
      },
      "execution_count": null,
      "outputs": []
    },
    {
      "cell_type": "code",
      "source": [
        "#5. Faça um programa para a leitura de duas notas parciais de um aluno. O programa deve calcular a média alcançada por aluno e apresentar:\n",
        "#o A mensagem \"Aprovado\", se a média alcançada for maior ou igual a sete;\n",
        "#o A mensagem \"Reprovado\", se a média for menor do que sete;\n",
        "\n",
        "nota1 = float(input(\"Digite a primeira nota parcial: \"))\n",
        "nota2 = float(input(\"Digite a segunda nota parcial: \"))\n",
        "\n",
        "media = (nota1 + nota2) / 2\n",
        "\n",
        "if media >= 7:\n",
        "    print(\"Aprovado\")\n",
        "else:\n",
        "    print(\"Reprovado\")\n"
      ],
      "metadata": {
        "id": "xFLsh18itwPe"
      },
      "execution_count": null,
      "outputs": []
    },
    {
      "cell_type": "code",
      "source": [
        "# 6. Faça um Programa que leia três números e mostre o maior deles.\n",
        "num1 = float(input(\"Digite o primeiro número: \"))\n",
        "num2 = float(input(\"Digite o segundo número: \"))\n",
        "num3 = float(input(\"Digite o terceiro número: \"))\n",
        "\n",
        "if num1 >= num2 and num1 >= num3:\n",
        "    print(\"O maior número é:\", num1)\n",
        "elif num2 >= num1 and num2 >= num3:\n",
        "    print(\"O maior número é:\", num2)\n",
        "else:\n",
        "    print(\"O maior número é:\", num3)\n"
      ],
      "metadata": {
        "id": "hcDLV-EvtwXH"
      },
      "execution_count": null,
      "outputs": []
    },
    {
      "cell_type": "code",
      "source": [
        "# 7. Faça um Programa que leia três números e mostre o maior e o menor deles.\n",
        "num1 = float(input(\"Digite o primeiro número: \"))\n",
        "num2 = float(input(\"Digite o segundo número: \"))\n",
        "num3 = float(input(\"Digite o terceiro número: \"))\n",
        "\n",
        "maior = num1\n",
        "menor = num1\n",
        "\n",
        "if num2 > maior:\n",
        "    maior = num2\n",
        "\n",
        "if num3 > maior:\n",
        "    maior = num3\n",
        "\n",
        "if num2 < menor:\n",
        "    menor = num2\n",
        "\n",
        "if num3 < menor:\n",
        "    menor = num3\n",
        "\n",
        "print(\"O maior número é:\", maior)\n",
        "print(\"O menor número é:\", menor)\n"
      ],
      "metadata": {
        "id": "AXYJGAQXtwfb"
      },
      "execution_count": null,
      "outputs": []
    },
    {
      "cell_type": "code",
      "source": [
        "# 8. Faça um programa que pergunte o preço de três produtos e informe qual produto você deve comprar, sabendo que a decisão é sempre pelo mais barato.\n",
        "preco1 = float(input(\"Digite o preço do primeiro produto: \"))\n",
        "preco2 = float(input(\"Digite o preço do segundo produto: \"))\n",
        "preco3 = float(input(\"Digite o preço do terceiro produto: \"))\n",
        "\n",
        "if preco1 <= preco2 and preco1 <= preco3:\n",
        "    print(\"Compre o primeiro produto.\")\n",
        "elif preco2 <= preco1 and preco2 <= preco3:\n",
        "    print(\"Compre o segundo produto.\")\n",
        "else:\n",
        "    print(\"Compre o terceiro produto.\")\n"
      ],
      "metadata": {
        "id": "v7fHwA_3twnZ"
      },
      "execution_count": null,
      "outputs": []
    },
    {
      "cell_type": "code",
      "source": [
        "# 9. Faça um Programa que leia três números e mostre-os em ordem decrescente.\n",
        "num1 = float(input(\"Digite o primeiro número: \"))\n",
        "num2 = float(input(\"Digite o segundo número: \"))\n",
        "num3 = float(input(\"Digite o terceiro número: \"))\n",
        "\n",
        "# Encontrando o maior número\n",
        "if num1 >= num2 and num1 >= num3:\n",
        "    maior = num1\n",
        "elif num2 >= num1 and num2 >= num3:\n",
        "    maior = num2\n",
        "else:\n",
        "    maior = num3\n",
        "\n",
        "# Encontrando o menor número\n",
        "if num1 <= num2 and num1 <= num3:\n",
        "    menor = num1\n",
        "elif num2 <= num1 and num2 <= num3:\n",
        "    menor = num2\n",
        "else:\n",
        "    menor = num3\n",
        "\n",
        "# Encontrando o número do meio\n",
        "if num1 != maior and num1 != menor:\n",
        "    meio = num1\n",
        "elif num2 != maior and num2 != menor:\n",
        "    meio = num2\n",
        "else:\n",
        "    meio = num3\n",
        "\n",
        "print(maior, meio, menor)"
      ],
      "metadata": {
        "id": "O_G-XTWdtwvf"
      },
      "execution_count": null,
      "outputs": []
    },
    {
      "cell_type": "code",
      "source": [
        "#10. Faça um Programa que pergunte em que turno você estuda. Peça para digitar M-matutino ou VVespertino ou N- Noturno. Imprima a mensagem \"Bom Dia!\", \"Boa Tarde!\" ou \"Boa Noite!\" ou\n",
        "#\"Valor Inválido!\", conforme o caso\n",
        "turno = input(\"Em que turno você estuda? Digite M para matutino, V para vespertino ou N para noturno: \")\n",
        "\n",
        "if turno.upper() == \"M\":\n",
        "    print(\"Bom dia!\")\n",
        "elif turno.upper() == \"V\":\n",
        "    print(\"Boa tarde!\")\n",
        "elif turno.upper() == \"N\":\n",
        "    print(\"Boa noite!\")\n",
        "else:\n",
        "    print(\"Valor inválido!\")\n"
      ],
      "metadata": {
        "id": "wvuXiG4Ttw3i"
      },
      "execution_count": null,
      "outputs": []
    },
    {
      "cell_type": "code",
      "source": [
        "#11. As Organizações Tabajara resolveram dar um aumento de salário aos seus colaboradores e lhe contraram para desenvolver o programa que calculará os reajustes.\n",
        "#o Faça um programa que recebe o salário de um colaborador e o reajuste segundo o\n",
        "#seguinte critério, baseado no salário atual:\n",
        "#o salários até R$ 280,00 (incluindo) : aumento de 20%\n",
        "#o salários entre R$ 280,00 e R$ 700,00 : aumento de 15%\n",
        "#o salários entre R$ 700,00 e R$ 1500,00 : aumento de 10%\n",
        "#o salários de R$ 1500,00 em diante : aumento de 5% Após o aumento ser realizado,\n",
        "#informe na tela:\n",
        "#o o salário antes do reajuste;\n",
        "#o o percentual de aumento aplicado;\n",
        "#o o valor do aumento;\n",
        "#o o novo salário, após o aumento.\n",
        "\n",
        "salario = float(input(\"Digite o salário do colaborador: \"))\n",
        "\n",
        "if salario <= 280:\n",
        "    percentual_aumento = 20\n",
        "elif salario > 280 and salario <= 700:\n",
        "    percentual_aumento = 15\n",
        "elif salario > 700 and salario <= 1500:\n",
        "    percentual_aumento = 10\n",
        "else:\n",
        "    percentual_aumento = 5\n",
        "\n",
        "valor_aumento = salario * percentual_aumento / 100\n",
        "novo_salario = salario + valor_aumento\n",
        "\n",
        "print(\"Salário antes do reajuste: R$ {:.2f}\".format(salario))\n",
        "print(\"Percentual de aumento aplicado: {}%\".format(percentual_aumento))\n",
        "print(\"Valor do aumento: R$ {:.2f}\".format(valor_aumento))\n",
        "print(\"Novo salário, após o aumento: R$ {:.2f}\".format(novo_salario))\n"
      ],
      "metadata": {
        "id": "PfQmLLq6tw_7"
      },
      "execution_count": null,
      "outputs": []
    },
    {
      "cell_type": "code",
      "source": [
        "#12. Faça um programa para o cálculo de uma folha de pagamento, sabendo que os descontos são do Imposto de Renda, que depende do salário bruto (conforme tabela abaixo) e 3% para o Sindicato\n",
        "#e que o FGTS corresponde a 11% do Salário Bruto, mas não é descontado (é a empresa que deposita). O Salário Líquido corresponde ao Salário Bruto menos os descontos. O programa\n",
        "#deverá pedir ao usuário o valor da sua hora e a quantidade de horas trabalhadas no mês.\n",
        "#o Desconto do IR:\n",
        "#o Salário Bruto até 900 (inclusive) - isento\n",
        "#o Salário Bruto até 1500 (inclusive) - desconto de 5%\n",
        "#o Salário Bruto até 2500 (inclusive) - desconto de 10%\n",
        "#o Salário Bruto acima de 2500 - desconto de 20% Imprima na tela as informações,\n",
        "#dispostas conforme o exemplo abaixo. No exemplo o valor da hora é 5 e a quantidade de\n",
        "#hora é 220.\n",
        "#oSalário Bruto: (5 * 220) : R$ 1100,00\n",
        "#o (-) IR (5%) : R$ 55,00\n",
        "#o (-) INSS ( 10%) : R$ 110,00\n",
        "#o FGTS (11%) : R$ 121,00\n",
        "#o Total de descontos : R$ 165,00\n",
        "#o Salário Liquido : R$ 935,00\n",
        "\n",
        "valor_hora = float(input(\"Digite o valor da hora de trabalho: \"))\n",
        "horas_trabalhadas = float(input(\"Digite a quantidade de horas trabalhadas no mês: \"))\n",
        "\n",
        "salario_bruto = valor_hora * horas_trabalhadas\n",
        "desconto_inss = salario_bruto * 0.1\n",
        "\n",
        "if salario_bruto <= 900:\n",
        "    desconto_ir = 0\n",
        "elif salario_bruto <= 1500:\n",
        "    desconto_ir = salario_bruto * 0.05\n",
        "elif salario_bruto <= 2500:\n",
        "    desconto_ir = salario_bruto * 0.1\n",
        "else:\n",
        "    desconto_ir = salario_bruto * 0.2\n",
        "\n",
        "fgts = salario_bruto * 0.11\n",
        "total_descontos = desconto_inss + desconto_ir\n",
        "salario_liquido = salario_bruto - total_descontos\n",
        "\n",
        "print(f\"Salário Bruto: R$ {salario_bruto:.2f}\")\n",
        "print(f\"(-) IR ({desconto_ir*100/salario_bruto:.0f}%): R$ {desconto_ir:.2f}\")\n",
        "print(f\"(-) INSS (10%): R$ {desconto_inss:.2f}\")\n",
        "print(f\"FGTS (11%): R$ {fgts:.2f}\")\n",
        "print(f\"Total de descontos: R$ {total_descontos:.2f}\")\n",
        "print(f\"Salário Líquido: R$ {salario_liquido:.2f}\")\n",
        "\n"
      ],
      "metadata": {
        "id": "dgW4BQtvtxHn"
      },
      "execution_count": null,
      "outputs": []
    },
    {
      "cell_type": "code",
      "source": [
        "# 13 Faça um Programa que leia um número e exiba o dia correspondente da semana. (1-Domingo, 2-\n",
        "#Segunda, etc.), se digitar outro valor deve aparecer valor inválido.\n",
        "\n",
        "numero = int(input(\"Digite um número correspondente ao dia da semana (1-Domingo, 2-Segunda, etc.): \"))\n",
        "\n",
        "if numero == 1:\n",
        "    print(\"Domingo\")\n",
        "elif numero == 2:\n",
        "    print(\"Segunda\")\n",
        "elif numero == 3:\n",
        "    print(\"Terça\")\n",
        "elif numero == 4:\n",
        "    print(\"Quarta\")\n",
        "elif numero == 5:\n",
        "    print(\"Quinta\")\n",
        "elif numero == 6:\n",
        "    print(\"Sexta\")\n",
        "elif numero == 7:\n",
        "    print(\"Sábado\")\n",
        "else:\n",
        "    print(\"Valor inválido\")\n"
      ],
      "metadata": {
        "id": "K8n1mhyJtxPP"
      },
      "execution_count": null,
      "outputs": []
    },
    {
      "cell_type": "code",
      "source": [
        "#14. Faça um programa que lê as duas notas parciais obtidas por um aluno numa disciplina ao longo\n",
        "#de um semestre, e calcule a sua média. A atribuição de conceitos obedece à tabela abaixo:\n",
        "#o Média de Aproveitamento Conceito\n",
        "#o Entre 9.0 e 10.0 A\n",
        "#o Entre 7.5 e 9.0 B\n",
        "#o Entre 6.0 e 7.5 C\n",
        "#o Entre 4.0 e 6.0 D\n",
        "#o Entre 4.0 e zero E\n",
        "#O algoritmo deve mostrar na tela as notas, a média, o conceito correspondente e a mensagem “APROVADO” se o conceito for A, B ou C ou “REPROVADO” se o conceito for D ou E.\n",
        "\n",
        "nota1 = float(input(\"Digite a primeira nota: \"))\n",
        "nota2 = float(input(\"Digite a segunda nota: \"))\n",
        "\n",
        "media = (nota1 + nota2) / 2\n",
        "\n",
        "if media >= 9:\n",
        "  conceito = \"A\"\n",
        "  mensagem = \"APROVADO\"\n",
        "elif media >= 7.5:\n",
        "  conceito = \"B\"\n",
        "  mensagem = \"APROVADO\"\n",
        "elif media >= 6:\n",
        "  conceito = \"C\"\n",
        "  mensagem = \"APROVADO\"\n",
        "elif media >= 4:\n",
        "  conceito = \"D\"\n",
        "  mensagem = \"REPROVADO\"\n",
        "else:\n",
        "  conceito = \"E\"\n",
        "  mensagem = \"REPROVADO\"\n",
        "\n",
        "print(\"Notas: {:.1f} e {:.1f}\".format(nota1, nota2))\n",
        "print(\"Média: {:.1f}\".format(media))\n",
        "print(\"Conceito: {}\".format(conceito))\n",
        "print(\"Situação: {}\".format(mensagem))\n"
      ],
      "metadata": {
        "id": "EYCupIy-txWl"
      },
      "execution_count": null,
      "outputs": []
    },
    {
      "cell_type": "code",
      "source": [
        "#15. Faça um Programa que peça os 3 lados de um triângulo. O programa deverá informar se os valores\n",
        "#podem ser um triângulo. Indique, caso os lados formem um triângulo, se o mesmo é: equilátero,\n",
        "#isósceles ou escaleno.\n",
        "#o Dicas:\n",
        "#o Três lados formam um triângulo quando a soma de quaisquer dois lados for maior que o\n",
        "#terceiro;\n",
        "#o Triângulo Equilátero: três lados iguais;\n",
        "#o Triângulo Isósceles: quaisquer dois lados iguais;\n",
        "#o Triângulo Escaleno: três lados diferentes;\n",
        "\n",
        "lado1 = float(input(\"Digite o primeiro lado do triângulo: \"))\n",
        "lado2 = float(input(\"Digite o segundo lado do triângulo: \"))\n",
        "lado3 = float(input(\"Digite o terceiro lado do triângulo: \"))\n",
        "\n",
        "if lado1 + lado2 > lado3 and lado1 + lado3 > lado2 and lado2 + lado3 > lado1:\n",
        "    # Os lados formam um triângulo\n",
        "    if lado1 == lado2 == lado3:\n",
        "        print(\"O triângulo é equilátero.\")\n",
        "    elif lado1 == lado2 or lado1 == lado3 or lado2 == lado3:\n",
        "        print(\"O triângulo é isósceles.\")\n",
        "    else:\n",
        "        print(\"O triângulo é escaleno.\")\n",
        "else:\n",
        "    print(\"Os lados informados não formam um triângulo.\")\n"
      ],
      "metadata": {
        "id": "6jTUUKpltvQE"
      },
      "execution_count": null,
      "outputs": []
    }
  ]
}