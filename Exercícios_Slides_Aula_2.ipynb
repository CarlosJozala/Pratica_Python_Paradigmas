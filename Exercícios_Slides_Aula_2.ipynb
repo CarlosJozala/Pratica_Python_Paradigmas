{
  "nbformat": 4,
  "nbformat_minor": 0,
  "metadata": {
    "colab": {
      "provenance": [],
      "authorship_tag": "ABX9TyPvXOM4BL0rqlzFTMMdmX8G",
      "include_colab_link": true
    },
    "kernelspec": {
      "name": "python3",
      "display_name": "Python 3"
    },
    "language_info": {
      "name": "python"
    }
  },
  "cells": [
    {
      "cell_type": "markdown",
      "metadata": {
        "id": "view-in-github",
        "colab_type": "text"
      },
      "source": [
        "<a href=\"https://colab.research.google.com/github/CarlosJozala/Pratica_Python_Paradigmas/blob/main/Exerc%C3%ADcios_Slides_Aula_2.ipynb\" target=\"_parent\"><img src=\"https://colab.research.google.com/assets/colab-badge.svg\" alt=\"Open In Colab\"/></a>"
      ]
    },
    {
      "cell_type": "markdown",
      "source": [
        "Trabalho 1\n",
        "\n",
        "Paradigmas da Programação em Linguagem Python\n",
        "\n",
        "Alunos: Carlos Jozala e Gledson Rocha\n",
        "\n",
        "Professor: Hiram Hiram Carlos Costa Amaral"
      ],
      "metadata": {
        "id": "3oPgBXxpxRNv"
      }
    },
    {
      "cell_type": "code",
      "execution_count": null,
      "metadata": {
        "id": "2-t056KRZ4de"
      },
      "outputs": [],
      "source": [
        "## Slide 88 - Escrever um programa em Python que calcula a média final dos alunos que fizeram 2 provas (70%) e um trabalho (30%). \n",
        "## O programa deverá receber as 3 notas atráves do teclado e escrever a média na tela. Podendo ter partes fracionárias"
      ]
    },
    {
      "cell_type": "code",
      "source": [
        "Nota1 = float(input(\"Digite a Primeira Nota da Prova: \"))\n",
        "Nota2 = float(input(\"Digite a Segunda Nota da Prova: \"))\n",
        "Trab1 = float(input(\"Digite a Nota do trabalho: \"))\n",
        "\n",
        "Media_notas = (Nota1 + Nota2) * 0.7 \n",
        "Media_trab = Trab1 * 0.3\n",
        "\n",
        "Media_total = Media_notas + Media_trab\n",
        "\n",
        "print (\"A média final é:\", Media_total/2)"
      ],
      "metadata": {
        "colab": {
          "base_uri": "https://localhost:8080/"
        },
        "id": "uDY0PC-GaJ2C",
        "outputId": "645eba5f-80a8-44f1-9f77-68cb087218c2"
      },
      "execution_count": null,
      "outputs": [
        {
          "output_type": "stream",
          "name": "stdout",
          "text": [
            "Digite a Primeira Nota da Prova: 10\n",
            "Digite a Segunda Nota da Prova: 9\n",
            "Digite a Nota do trabalho: 10\n",
            "A média final é: 8.149999999999999\n"
          ]
        }
      ]
    },
    {
      "cell_type": "code",
      "source": [
        "## Slide 94 - Vamos escrever um programa que, dado um valor de ângulo, fornecido pelo usuário, escreva na tela o quadrante do ciclo trigonométrico em que ele se encontra\n",
        "\n",
        "ângulo em graus do usuário\n",
        "angulo = float(input(\"Digite o valor do ângulo em graus: \"))\n",
        "\n",
        " ângulo para radianos\n",
        "angulo_rad = angulo * (3.14159/180)\n",
        "\n",
        " qual quadrante o ângulo se encontra\n",
        "if angulo_rad >= 0 and angulo_rad < 1.5708:\n",
        "    print(\"O ângulo está no primeiro quadrante.\")\n",
        "elif angulo_rad >= 1.5708 and angulo_rad < 3.14159:\n",
        "    print(\"O ângulo está no segundo quadrante.\")\n",
        "elif angulo_rad >= 3.14159 and angulo_rad < 4.71239:\n",
        "    print(\"O ângulo está no terceiro quadrante.\")\n",
        "else:\n",
        "    print(\"O ângulo está no quarto quadrante.\")"
      ],
      "metadata": {
        "id": "BMpxU2mPw6iE"
      },
      "execution_count": null,
      "outputs": []
    },
    {
      "cell_type": "code",
      "source": [
        "## Slide 102 - Escreva um programa em python que calcule a soma de todos os elementos de uma progressão aritmética(P.A) que inicia em 2 e não tem valores maiores que 100, com razão igual a 3."
      ],
      "metadata": {
        "id": "gBtAPX1ia5vW"
      },
      "execution_count": null,
      "outputs": []
    },
    {
      "cell_type": "code",
      "source": [
        "a1 = 2\n",
        "r = 3\n",
        "n = (100 - a1) // r + 1\n",
        "\n",
        "soma = (a1 + a1 + (n - 1) * r) * n / 2\n",
        "\n",
        "print(\"A soma dos termos da P.A. é:\", soma)"
      ],
      "metadata": {
        "id": "HnW2mz9ja52o"
      },
      "execution_count": null,
      "outputs": []
    },
    {
      "cell_type": "code",
      "source": [
        "## Slide 105 - Escreva um programa em python em que o professor digita as notas de uma turma de alunos e as guarda em uma lista. \n",
        "## Ao final, é calculada a média da turma, que é escrita na tela. No ínicio, o professor entra com a quantidade de alunos."
      ],
      "metadata": {
        "id": "4jvHfEG9a6QG"
      },
      "execution_count": null,
      "outputs": []
    },
    {
      "cell_type": "code",
      "source": [
        "num_alunos = int(input(\"Digite a quantidade de alunos na turma: \"))\n",
        "notas = []\n",
        "\n",
        "for i in range(num_alunos):\n",
        "    nota = float(input(\"Digite a nota do aluno {}: \".format(i+1)))\n",
        "    notas.append(nota)\n",
        "\n",
        "media = sum(notas) / num_alunos\n",
        "\n",
        "print(\"A média da turma é:\", media)\n"
      ],
      "metadata": {
        "id": "HmmExQpPa6YH"
      },
      "execution_count": null,
      "outputs": []
    },
    {
      "cell_type": "code",
      "source": [
        "## Slide 109 - Escreva um programa em python que leia uma matriz de inteiros de 3x3 e calcule a soma da sua diagonal principal. Utilize as estruturas de repetições adequada"
      ],
      "metadata": {
        "id": "QkDycqvfa6hB"
      },
      "execution_count": null,
      "outputs": []
    },
    {
      "cell_type": "code",
      "source": [
        "# Criação da Matriz por Input\n",
        "matriz = []\n",
        "\n",
        "for i in range(3):\n",
        "    linha = []\n",
        "    for j in range(3):\n",
        "        valor = int(input(\"Digite o valor para a posição ({},{}) da matriz: \".format(i+1, j+1)))\n",
        "        linha.append(valor)\n",
        "    matriz.append(linha)\n",
        "# Calcula a soma da diagonal principal\n",
        "soma = 0\n",
        "for i in range(3):\n",
        "    soma += matriz[i][i]\n",
        "\n",
        "print(\"A soma dos elementos da diagonal principal é:\", soma)\n"
      ],
      "metadata": {
        "id": "vVE_HYPJa6pt"
      },
      "execution_count": null,
      "outputs": []
    },
    {
      "cell_type": "code",
      "source": [
        "# Solução alternativa\n",
        "matriz = {\n",
        "    (0, 0): 1, (0, 1): 2, (0, 2): 3,\n",
        "    (1, 0): 4, (1, 1): 5, (1, 2): 6,\n",
        "    (2, 0): 7, (2, 1): 8, (2, 2): 9\n",
        "}\n",
        "\n",
        "# Calcula a soma da diagonal principal\n",
        "soma = 0\n",
        "for i in range(3):\n",
        "    soma += matriz[(i, i)]\n",
        "\n",
        "# Exibe o resultado na tela\n",
        "print(\"A soma dos elementos da diagonal principal é:\", soma)\n"
      ],
      "metadata": {
        "colab": {
          "base_uri": "https://localhost:8080/"
        },
        "id": "xxr-ksG1d8C1",
        "outputId": "be5d900c-dab9-49a6-b724-e9132090fcb1"
      },
      "execution_count": null,
      "outputs": [
        {
          "output_type": "stream",
          "name": "stdout",
          "text": [
            "A soma dos elementos da diagonal principal é: 15\n"
          ]
        }
      ]
    }
  ]
}