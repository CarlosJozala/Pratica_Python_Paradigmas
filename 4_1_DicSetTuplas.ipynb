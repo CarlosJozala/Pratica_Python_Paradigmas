{
  "nbformat": 4,
  "nbformat_minor": 0,
  "metadata": {
    "colab": {
      "provenance": [],
      "authorship_tag": "ABX9TyNzaxkOw2hll3sKjystes4i",
      "include_colab_link": true
    },
    "kernelspec": {
      "name": "python3",
      "display_name": "Python 3"
    },
    "language_info": {
      "name": "python"
    }
  },
  "cells": [
    {
      "cell_type": "markdown",
      "metadata": {
        "id": "view-in-github",
        "colab_type": "text"
      },
      "source": [
        "<a href=\"https://colab.research.google.com/github/CarlosJozala/Pratica_Python_Paradigmas/blob/main/4_1_DicSetTuplas.ipynb\" target=\"_parent\"><img src=\"https://colab.research.google.com/assets/colab-badge.svg\" alt=\"Open In Colab\"/></a>"
      ]
    },
    {
      "cell_type": "markdown",
      "source": [
        "# **Dicionários, Sets e tuplas Prof. Fernando Amaral**"
      ],
      "metadata": {
        "id": "yuSXQbsF4dQb"
      }
    },
    {
      "cell_type": "code",
      "source": [
        "#Criação de Dicionários: Com utilização de atribuição de Colaborador e Salário\n",
        "\n",
        "Salários = {'João': 2250.02 , 'Maria': 7595.92, 'Pedro': 6342.54}\n",
        "print(Salários)"
      ],
      "metadata": {
        "colab": {
          "base_uri": "https://localhost:8080/"
        },
        "id": "iYipxBZl4hhj",
        "outputId": "8e308380-fc64-45c3-99a3-05ba6360091c"
      },
      "execution_count": null,
      "outputs": [
        {
          "output_type": "stream",
          "name": "stdout",
          "text": [
            "{'João': 2250.0, 'Maria': 7595.92, 'Pedro': 6342.54}\n"
          ]
        }
      ]
    },
    {
      "cell_type": "code",
      "source": [
        "print(Salários['João'])\n",
        "\n",
        "Salários.keys()"
      ],
      "metadata": {
        "colab": {
          "base_uri": "https://localhost:8080/",
          "height": 148
        },
        "id": "w0rlPzLi4hnt",
        "outputId": "82da60de-b649-4cda-d8ac-cc8339af4876"
      },
      "execution_count": null,
      "outputs": [
        {
          "output_type": "stream",
          "name": "stdout",
          "text": [
            "2250.0\n"
          ]
        },
        {
          "output_type": "error",
          "ename": "SyntaxError",
          "evalue": "ignored",
          "traceback": [
            "\u001b[0;36m  File \u001b[0;32m\"<ipython-input-4-74826b93f1f0>\"\u001b[0;36m, line \u001b[0;32m4\u001b[0m\n\u001b[0;31m    break\u001b[0m\n\u001b[0m    ^\u001b[0m\n\u001b[0;31mSyntaxError\u001b[0m\u001b[0;31m:\u001b[0m 'break' outside loop\n"
          ]
        }
      ]
    },
    {
      "cell_type": "code",
      "source": [
        "Salários.values()\n",
        "\n",
        "# Teste de Colaborador no Campo de Salários\n",
        "\n",
        "print('João' in Salários)\n",
        "print('Pedro' in Salários)"
      ],
      "metadata": {
        "id": "3tI_VoQN4htc"
      },
      "execution_count": null,
      "outputs": []
    },
    {
      "cell_type": "code",
      "source": [
        "# Apaga um termo no Dicionário\n",
        "\n",
        "del Salários['João']\n",
        "print(Salários)"
      ],
      "metadata": {
        "id": "U4cAfBCZ4hzh"
      },
      "execution_count": null,
      "outputs": []
    },
    {
      "cell_type": "code",
      "source": [
        "# Inclui um termo no Dicionário\n",
        "\n",
        "Salários['Carlos'] = 12789.89\n",
        "print(Salários)"
      ],
      "metadata": {
        "colab": {
          "base_uri": "https://localhost:8080/"
        },
        "id": "cgCdFl244h8F",
        "outputId": "a647749f-5576-4c98-8324-b8b9a379b8b6"
      },
      "execution_count": null,
      "outputs": [
        {
          "output_type": "stream",
          "name": "stdout",
          "text": [
            "{'João': 2250.0, 'Maria': 7595.92, 'Pedro': 6342.54, 'Carlos': 12789.89}\n"
          ]
        }
      ]
    },
    {
      "cell_type": "code",
      "source": [
        "# Verifica a existência de termos\n",
        "\n",
        "print('Carlos' in Salários)\n"
      ],
      "metadata": {
        "colab": {
          "base_uri": "https://localhost:8080/"
        },
        "id": "COTo7Dj44jIE",
        "outputId": "93b7f90c-b431-495c-e9c4-09f0be668759"
      },
      "execution_count": null,
      "outputs": [
        {
          "output_type": "stream",
          "name": "stdout",
          "text": [
            "True\n"
          ]
        }
      ]
    },
    {
      "cell_type": "code",
      "source": [
        "#Criação de Tuplas \n",
        "\n",
        "tupla = (1,2,3,4,5,6,7,8,9,10,11,12,13,14,15)\n",
        "tupla"
      ],
      "metadata": {
        "colab": {
          "base_uri": "https://localhost:8080/"
        },
        "id": "l6RyskDA4jOt",
        "outputId": "81f62e25-923a-4f60-aa16-55592b0642e8"
      },
      "execution_count": null,
      "outputs": [
        {
          "output_type": "execute_result",
          "data": {
            "text/plain": [
              "(1, 2, 3, 4, 5, 6, 7, 8, 9, 10, 11, 12, 13, 14, 15)"
            ]
          },
          "metadata": {},
          "execution_count": 9
        }
      ]
    },
    {
      "cell_type": "code",
      "source": [
        "# Criação de Sets que são conjuntos não ordenados de elementos não repetidos\n",
        "Clouds = {'Azure', 'AWS', \"GCP\", \"IBM\", \"Tencent Cloud\"}\n",
        "print(Clouds)"
      ],
      "metadata": {
        "colab": {
          "base_uri": "https://localhost:8080/"
        },
        "id": "IKHXg6tR6jf_",
        "outputId": "54e00a58-34c1-41f0-d228-47f2313dfef8"
      },
      "execution_count": null,
      "outputs": [
        {
          "output_type": "stream",
          "name": "stdout",
          "text": [
            "{'IBM', 'GCP', 'Tencent Cloud', 'AWS', 'Azure'}\n"
          ]
        }
      ]
    },
    {
      "cell_type": "code",
      "source": [
        "print(type(Salários))\n",
        "print(type(tupla))\n",
        "print(type(Clouds))"
      ],
      "metadata": {
        "colab": {
          "base_uri": "https://localhost:8080/"
        },
        "id": "LyMERj0L4jV8",
        "outputId": "e15c9a7c-ed74-4330-c5c8-4292dd64e0f9"
      },
      "execution_count": null,
      "outputs": [
        {
          "output_type": "stream",
          "name": "stdout",
          "text": [
            "<class 'dict'>\n",
            "<class 'tuple'>\n",
            "<class 'set'>\n"
          ]
        }
      ]
    }
  ]
}